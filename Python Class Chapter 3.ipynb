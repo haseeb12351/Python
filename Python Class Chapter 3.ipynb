{
 "cells": [
  {
   "cell_type": "code",
   "execution_count": 32,
   "metadata": {},
   "outputs": [
    {
     "name": "stdout",
     "output_type": "stream",
     "text": [
      "Haseeb\n",
      "Mudassir\n",
      "Mubashir\n",
      "Shoaib\n"
     ]
    }
   ],
   "source": [
    "#3.1\n",
    "names = ['Haseeb', 'Mudassir', 'Mubashir', 'Shoaib']\n",
    "print(names[0])\n",
    "print(names[1])\n",
    "print(names[2])\n",
    "print(names[3])"
   ]
  },
  {
   "cell_type": "code",
   "execution_count": 33,
   "metadata": {},
   "outputs": [
    {
     "name": "stdout",
     "output_type": "stream",
     "text": [
      "This is Mr.Haseeb and he is the future programmer\n",
      "This is Mr.Mudassir and he is the future programmer\n",
      "This is Mr.Mubashir and he is the future programmer\n",
      "This is Mr.Shoaib and he is the future programmer\n"
     ]
    }
   ],
   "source": [
    "#3.2\n",
    "print('This is Mr.' + names[0].title() + ' and he is the future programmer')\n",
    "print('This is Mr.' + names[1].title() + ' and he is the future programmer')\n",
    "print('This is Mr.' + names[2].title() + ' and he is the future programmer')\n",
    "print('This is Mr.' + names[3].title() + ' and he is the future programmer')"
   ]
  },
  {
   "cell_type": "code",
   "execution_count": 34,
   "metadata": {},
   "outputs": [
    {
     "name": "stdout",
     "output_type": "stream",
     "text": [
      "I would like to purchase honda city but i think prius is better than honda city.My brother has passo\n"
     ]
    }
   ],
   "source": [
    "#3.3\n",
    "cars = ['honda city', 'corolla', 'prius', 'passo', 'civic']\n",
    "print('I would like to purchase ' + cars[0] + ' but i think ' + cars[2] + ' is better than ' + cars[0] + '.My brother has ' + cars[3])"
   ]
  },
  {
   "cell_type": "code",
   "execution_count": 53,
   "metadata": {},
   "outputs": [
    {
     "name": "stdout",
     "output_type": "stream",
     "text": [
      "haseeb you have been invited in the dinner\n",
      "mudassir you have been invited in the dinner\n",
      "mubashir you have been invited in the dinner\n"
     ]
    }
   ],
   "source": [
    "#3.4\n",
    "guest_name = ['haseeb', 'mudassir', 'mubashir']\n",
    "print(guest_name[0] + ' you have been invited in the dinner')\n",
    "print(guest_name[1] + ' you have been invited in the dinner')\n",
    "print(guest_name[2] + ' you have been invited in the dinner')"
   ]
  },
  {
   "cell_type": "code",
   "execution_count": 36,
   "metadata": {},
   "outputs": [
    {
     "name": "stdout",
     "output_type": "stream",
     "text": [
      "mubashir he has not coming in the dinner.\n",
      "haseeb you have been invited in the dinner\n",
      "mudassir you have been invited in the dinner\n",
      "shoaib you have been invited in the dinner\n"
     ]
    }
   ],
   "source": [
    "#3.5\n",
    "print(guest_name[2] + ' he has not coming in the dinner.')\n",
    "guest_name[2] = 'shoaib'\n",
    "print(guest_name[0] + ' you have been invited in the dinner')\n",
    "print(guest_name[1] + ' you have been invited in the dinner')\n",
    "print(guest_name[2] + ' you have been invited in the dinner')"
   ]
  },
  {
   "cell_type": "code",
   "execution_count": 37,
   "metadata": {},
   "outputs": [
    {
     "name": "stdout",
     "output_type": "stream",
     "text": [
      "we found the bigger dinner table\n",
      "mubashir you have been invited in the dinner\n",
      "haseeb you have been invited in the dinner\n",
      "mudassir you have been invited in the dinner\n",
      "anas you have been invited in the dinner\n",
      "shoaib you have been invited in the dinner\n",
      "hasan you have been invited in the dinner\n"
     ]
    }
   ],
   "source": [
    "#3.6\n",
    "print('we found the bigger dinner table')\n",
    "guest_name.insert(0 ,'mubashir')\n",
    "guest_name.insert(3 ,'anas')\n",
    "guest_name.append('hasan')\n",
    "print(guest_name[0] + ' you have been invited in the dinner')\n",
    "print(guest_name[1] + ' you have been invited in the dinner')\n",
    "print(guest_name[2] + ' you have been invited in the dinner')\n",
    "print(guest_name[3] + ' you have been invited in the dinner')\n",
    "print(guest_name[4] + ' you have been invited in the dinner')\n",
    "print(guest_name[5] + ' you have been invited in the dinner')"
   ]
  },
  {
   "cell_type": "code",
   "execution_count": 38,
   "metadata": {},
   "outputs": [
    {
     "name": "stdout",
     "output_type": "stream",
     "text": [
      "only 2 people has space in dinner table\n",
      "Sorry you have been not invited\n",
      "Sorry you have been not invited\n",
      "Sorry you have been not invited\n",
      "Sorry you have been not invited\n",
      "shoaib you have been invited in the dinner\n",
      "hasan you have been invited in the dinner\n"
     ]
    },
    {
     "data": {
      "text/plain": [
       "[]"
      ]
     },
     "execution_count": 38,
     "metadata": {},
     "output_type": "execute_result"
    }
   ],
   "source": [
    "#3.7\n",
    "remove_guest = []\n",
    "print('only 2 people has space in dinner table')\n",
    "remove_guest.append(guest_name.pop(0))\n",
    "print('Sorry you have been not invited')\n",
    "remove_guest.append(guest_name.pop(0))\n",
    "print('Sorry you have been not invited')\n",
    "remove_guest.append(guest_name.pop(0))\n",
    "print('Sorry you have been not invited')\n",
    "remove_guest.append(guest_name.pop(0))\n",
    "print('Sorry you have been not invited')\n",
    "print(guest_name[0] + ' you have been invited in the dinner')\n",
    "print(guest_name[1] + ' you have been invited in the dinner')\n",
    "del guest_name[0]\n",
    "del guest_name[0]\n",
    "guest_name"
   ]
  },
  {
   "cell_type": "code",
   "execution_count": 52,
   "metadata": {},
   "outputs": [
    {
     "name": "stdout",
     "output_type": "stream",
     "text": [
      "['karachi', 'naran', 'sawat', 'murree', 'lahore']\n",
      "['karachi', 'lahore', 'murree', 'naran', 'sawat']\n",
      "['karachi', 'naran', 'sawat', 'murree', 'lahore']\n",
      "['sawat', 'naran', 'murree', 'lahore', 'karachi']\n",
      "['karachi', 'naran', 'sawat', 'murree', 'lahore']\n",
      "['lahore', 'murree', 'sawat', 'naran', 'karachi']\n",
      "['karachi', 'naran', 'sawat', 'murree', 'lahore']\n",
      "['karachi', 'lahore', 'murree', 'naran', 'sawat']\n",
      "['sawat', 'naran', 'murree', 'lahore', 'karachi']\n"
     ]
    }
   ],
   "source": [
    "#3.8\n",
    "locations = ['karachi', 'naran', 'sawat', 'murree', 'lahore']\n",
    "print(locations)\n",
    "print(sorted(locations))\n",
    "print(locations)\n",
    "print(sorted(locations, reverse=True))\n",
    "print(locations)\n",
    "locations.reverse()\n",
    "print(locations)\n",
    "locations.reverse()\n",
    "print(locations)\n",
    "locations.sort()\n",
    "print(locations)\n",
    "locations.sort(reverse=True)\n",
    "print(locations)"
   ]
  },
  {
   "cell_type": "code",
   "execution_count": 56,
   "metadata": {},
   "outputs": [
    {
     "data": {
      "text/plain": [
       "3"
      ]
     },
     "execution_count": 56,
     "metadata": {},
     "output_type": "execute_result"
    }
   ],
   "source": [
    "#3.9\n",
    "guest_name = ['haseeb', 'mudassir', 'mubashir']\n",
    "len(guest_name)"
   ]
  },
  {
   "cell_type": "code",
   "execution_count": 63,
   "metadata": {},
   "outputs": [
    {
     "name": "stdout",
     "output_type": "stream",
     "text": [
      "3\n",
      "['Hindukush', 'K2', 'Kirthar']\n"
     ]
    }
   ],
   "source": [
    "#3.10\n",
    "mountains = ['Mount Everset', 'Karakoram', 'Hindukush', 'Himaliyas']\n",
    "mountains.append('K2')\n",
    "mountains.insert(2, 'Kirthar')\n",
    "del mountains[1]\n",
    "mountains.pop(0)\n",
    "mountains.remove('Himaliyas')\n",
    "mountains.sort(reverse=True)\n",
    "mountains.reverse()\n",
    "sorted(mountains)\n",
    "print(len(mountains))\n",
    "print(mountains)"
   ]
  },
  {
   "cell_type": "code",
   "execution_count": 65,
   "metadata": {},
   "outputs": [
    {
     "data": {
      "text/plain": [
       "'c'"
      ]
     },
     "execution_count": 65,
     "metadata": {},
     "output_type": "execute_result"
    }
   ],
   "source": [
    "#3.11\n",
    "words = ['a', 'b', 'c']\n",
    "words[2]"
   ]
  },
  {
   "cell_type": "code",
   "execution_count": null,
   "metadata": {},
   "outputs": [],
   "source": []
  }
 ],
 "metadata": {
  "kernelspec": {
   "display_name": "Python 3",
   "language": "python",
   "name": "python3"
  },
  "language_info": {
   "codemirror_mode": {
    "name": "ipython",
    "version": 3
   },
   "file_extension": ".py",
   "mimetype": "text/x-python",
   "name": "python",
   "nbconvert_exporter": "python",
   "pygments_lexer": "ipython3",
   "version": "3.8.3"
  }
 },
 "nbformat": 4,
 "nbformat_minor": 4
}
