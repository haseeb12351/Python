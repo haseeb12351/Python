{
 "cells": [
  {
   "cell_type": "code",
   "execution_count": 7,
   "metadata": {},
   "outputs": [
    {
     "name": "stdout",
     "output_type": "stream",
     "text": [
      "Hello World\n"
     ]
    }
   ],
   "source": [
    "#2.1\n",
    "name = \"Hello World\"\n",
    "print(name)"
   ]
  },
  {
   "cell_type": "code",
   "execution_count": 8,
   "metadata": {},
   "outputs": [
    {
     "name": "stdout",
     "output_type": "stream",
     "text": [
      "Hello Python\n"
     ]
    }
   ],
   "source": [
    "#2.2\n",
    "name = \"Hello Python\"\n",
    "print(name)"
   ]
  },
  {
   "cell_type": "code",
   "execution_count": 5,
   "metadata": {},
   "outputs": [
    {
     "name": "stdout",
     "output_type": "stream",
     "text": [
      "Hello Haseeb,would you like to learn some Python today$\n"
     ]
    }
   ],
   "source": [
    "#2.3\n",
    "my_name = \"Haseeb\"\n",
    "print(\"Hello \" + my_name + \",would you like to learn some Python today$\")"
   ]
  },
  {
   "cell_type": "code",
   "execution_count": 9,
   "metadata": {},
   "outputs": [
    {
     "name": "stdout",
     "output_type": "stream",
     "text": [
      "Haseeb\n",
      "HASEEB\n",
      "haseeb\n"
     ]
    }
   ],
   "source": [
    "#2.4\n",
    "person_name = \"haseeb\"\n",
    "print(person_name.title())\n",
    "print(person_name.upper())\n",
    "print(person_name.lower())"
   ]
  },
  {
   "cell_type": "code",
   "execution_count": 10,
   "metadata": {},
   "outputs": [
    {
     "name": "stdout",
     "output_type": "stream",
     "text": [
      "Albert Einstein once said, \"A person who never made a mistake never tried anything new.\"\n"
     ]
    }
   ],
   "source": [
    "#2.5\n",
    "print('Albert Einstein once said, \"A person who never made a mistake never tried anything new.\"')"
   ]
  },
  {
   "cell_type": "code",
   "execution_count": 12,
   "metadata": {},
   "outputs": [
    {
     "name": "stdout",
     "output_type": "stream",
     "text": [
      "\"A person who never made a mistake never tried anything new.\"\n"
     ]
    }
   ],
   "source": [
    "#2.6\n",
    "famous_person = \"Albert Einstein\"\n",
    "message = '\"A person who never made a mistake never tried anything new.\"'\n",
    "print(message)"
   ]
  },
  {
   "cell_type": "code",
   "execution_count": 18,
   "metadata": {},
   "outputs": [
    {
     "name": "stdout",
     "output_type": "stream",
     "text": [
      "\tHaseeb\t\n",
      "\tHaseeb\n",
      "Haseeb\t\n",
      "Haseeb\n"
     ]
    }
   ],
   "source": [
    "#2.7\n",
    "person_name = \"\\tHaseeb\\t\"\n",
    "print(person_name)\n",
    "print(person_name.rstrip())\n",
    "print(person_name.lstrip())\n",
    "print(person_name.strip())"
   ]
  },
  {
   "cell_type": "code",
   "execution_count": 21,
   "metadata": {},
   "outputs": [
    {
     "name": "stdout",
     "output_type": "stream",
     "text": [
      "8\n",
      "8\n",
      "8\n",
      "8\n",
      "8.0\n"
     ]
    }
   ],
   "source": [
    "#2.8\n",
    "print(4 + 4)\n",
    "print(10 - 2)\n",
    "print(2 * 4)\n",
    "print(16 // 2)\n",
    "print(16 / 2)"
   ]
  },
  {
   "cell_type": "code",
   "execution_count": 24,
   "metadata": {},
   "outputs": [
    {
     "name": "stdout",
     "output_type": "stream",
     "text": [
      "My favourite number: 14\n"
     ]
    }
   ],
   "source": [
    "#2.9\n",
    "fav_num = 14\n",
    "message = \"My favourite number: \" + str(fav_num)\n",
    "print(message)"
   ]
  },
  {
   "cell_type": "code",
   "execution_count": 25,
   "metadata": {},
   "outputs": [
    {
     "name": "stdout",
     "output_type": "stream",
     "text": [
      "My favourite number: 14\n"
     ]
    }
   ],
   "source": [
    "#2.10\n",
    "# 29-12-20\n",
    "fav_num = 14\n",
    "message = \"My favourite number: \" + str(fav_num)\n",
    "print(message)\n",
    "# in this we convert int into str and print message"
   ]
  },
  {
   "cell_type": "code",
   "execution_count": 1,
   "metadata": {},
   "outputs": [
    {
     "name": "stdout",
     "output_type": "stream",
     "text": [
      "The Zen of Python, by Tim Peters\n",
      "\n",
      "Beautiful is better than ugly.\n",
      "Explicit is better than implicit.\n",
      "Simple is better than complex.\n",
      "Complex is better than complicated.\n",
      "Flat is better than nested.\n",
      "Sparse is better than dense.\n",
      "Readability counts.\n",
      "Special cases aren't special enough to break the rules.\n",
      "Although practicality beats purity.\n",
      "Errors should never pass silently.\n",
      "Unless explicitly silenced.\n",
      "In the face of ambiguity, refuse the temptation to guess.\n",
      "There should be one-- and preferably only one --obvious way to do it.\n",
      "Although that way may not be obvious at first unless you're Dutch.\n",
      "Now is better than never.\n",
      "Although never is often better than *right* now.\n",
      "If the implementation is hard to explain, it's a bad idea.\n",
      "If the implementation is easy to explain, it may be a good idea.\n",
      "Namespaces are one honking great idea -- let's do more of those!\n"
     ]
    }
   ],
   "source": [
    "#2.11\n",
    "import this"
   ]
  }
 ],
 "metadata": {
  "kernelspec": {
   "display_name": "Python 3",
   "language": "python",
   "name": "python3"
  },
  "language_info": {
   "codemirror_mode": {
    "name": "ipython",
    "version": 3
   },
   "file_extension": ".py",
   "mimetype": "text/x-python",
   "name": "python",
   "nbconvert_exporter": "python",
   "pygments_lexer": "ipython3",
   "version": "3.8.3"
  }
 },
 "nbformat": 4,
 "nbformat_minor": 4
}
